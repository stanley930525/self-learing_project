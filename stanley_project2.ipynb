import requests
import bs4
import os
import sys
from datetime import timedelta, datetime
        
class WebScraper:
    def __init__(self, url):
        self.url = url
    
    def fetch(self, url = ""):
        my_headers = {'cookie': 'over18=1;'}
        if url == "":
            url = self.url
        res = requests.get(url, headers = my_headers)
        soup = bs4.BeautifulSoup(res.text,"lxml")
        return soup
    
    def parser(self, keys):
        raise NotImplementedError("Subclass must implement abstract method")

class Ptt(WebScraper):
    boardUrls = []
    subjectUrls = []
    result = {}
    
    def __init__(self, url, pages = 1):
        WebScraper.__init__(self, url)
        self.pages = pages
    
    def statusBar(self, tick):
        i = tick%21
        sys.stdout.write('\r')
        sys.stdout.write("[%-20s]" % ('>'*i))
        sys.stdout.flush()

    def parser(self, keys):
        boards = self.fetch().select(".board")
        for board in boards:
            href = "https://www.ptt.cc" + board.get('href')
            #print(href)
            self.boardUrls.append(href)
        count = 0
        for url in self.boardUrls:
            content = self.fetch(url)
            subjects = content.select("a")
            for sub in subjects:
                title = sub.text
                if any(key in title for key in keys):
                    surl = sub.get('href')
                    if surl:
                        surl = "https://www.ptt.cc" + surl 
                        self.subjectUrls.append(surl)
                        self.result[title] = surl
                        print(title)
                        print(surl)
                        
            for i in range(0, self.pages):
                btn = content.select('div.btn-group > a')
                up_page_href = "https://www.ptt.cc" + btn[3]['href']
                #print("next page:" + up_page_href)
                content = self.fetch(up_page_href)
                subjects = content.select("a")
                self.statusBar(count)
                count = count + 1
                for sub in subjects:
                    title = sub.text
                    if any(key in title for key in keys):
                        surl = sub.get('href')
                        if surl:
                            print("\n")
                            surl = "https://www.ptt.cc" + surl 
                            self.subjectUrls.append(surl)
                            self.result[title] = surl
                            print(title)
                            print(surl)
                            

    def save(self, filename = ""):
        if filename == "":
            filename = datetime.now().strftime("%Y%m%d-%H%M%S") + ".txt"
        cur = os.getcwd()
        dst = os.path.join(cur, r'ptt')
        if not os.path.exists(dst):
            os.makedirs(dst)        
        f = open(dst + '/' + filename,'w')
        for key in self.result:
            f.write(key + " : " + self.result[key] + "\n")
        f.close()

    def lineNotifyMessage(self, token):
        headers = {
            "Authorization": "Bearer " + token, 
            "Content-Type" : "application/x-www-form-urlencoded"
        }
        msg = ""
        for key in self.result:
            msg = msg + key + " : " + self.result[key] + "\n"
            payload = {'message': msg }
            if len(msg) > 1000:
                r = requests.post("https://notify-api.line.me/api/notify", headers = headers, params = payload)
                msg = ""
        if len(msg) > 0:
            r = requests.post("https://notify-api.line.me/api/notify", headers = headers, params = payload)
        
        return 0        

start = datetime.now()
k = ["美食"]
ptt = Ptt("https://www.ptt.cc/bbs/index.html", 3)
ptt.parser(k)
ptt.save()
ptt.lineNotifyMessage("jhBvkDS3p5uhdxGGJzQEhLGB7E50V4V2xSxL7lz6M0I")
end = datetime.now()
print("\nSearching spent " + str(end - start))
