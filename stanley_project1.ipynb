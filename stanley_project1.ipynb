{
 "cells": [
  {
   "cell_type": "code",
   "execution_count": null,
   "metadata": {},
   "outputs": [
    {
     "name": "stdout",
     "output_type": "stream",
     "text": [
      "   |   |\n",
      "   |   | x\n",
      "   |   |\n",
      "-----------\n",
      "   |   |\n",
      " O | x | O\n",
      "   |   |\n",
      "-----------\n",
      "   |   |\n",
      " O | x |  \n",
      "   |   |\n"
     ]
    }
   ],
   "source": [
    "from IPython.display import clear_output\n",
    "\n",
    "def display_board(board):\n",
    "    clear_output()  # Remember, this only works in jupyter!\n",
    "    \n",
    "    print('   |   |')\n",
    "    print(' ' + board[7] + ' | ' + board[8] + ' | ' + board[9])\n",
    "    print('   |   |')\n",
    "    print('-----------')\n",
    "    print('   |   |')\n",
    "    print(' ' + board[4] + ' | ' + board[5] + ' | ' + board[6])\n",
    "    print('   |   |')\n",
    "    print('-----------')\n",
    "    print('   |   |')\n",
    "    print(' ' + board[1] + ' | ' + board[2] + ' | ' + board[3])\n",
    "    print('   |   |')\n",
    "player1 = input('player1 please enter O or X: ')\n",
    "test_board = [' ',' ',' ',' ',' ',' ',' ',' ',' ',' ']\n",
    "if player1 == 'O':\n",
    "    player2 = 'X'\n",
    "else:\n",
    "    player2 = 'O'\n",
    "display_board(test_board)\n",
    "isplayer1 = True\n",
    "for number in test_board:\n",
    "    position = int(input(\"please choose number 1 to 9: \"))\n",
    "    if isplayer1 == True:\n",
    "        test_board[position] = player1\n",
    "    else:\n",
    "        test_board[position] = player2\n",
    "\n",
    "    isplayer1 = not isplayer1\n",
    "    display_board(test_board)"
   ]
  },
  {
   "cell_type": "code",
   "execution_count": null,
   "metadata": {},
   "outputs": [],
   "source": [
    "x"
   ]
  },
  {
   "cell_type": "code",
   "execution_count": null,
   "metadata": {},
   "outputs": [],
   "source": []
  }
 ],
 "metadata": {
  "kernelspec": {
   "display_name": "Python 3",
   "language": "python",
   "name": "python3"
  },
  "language_info": {
   "codemirror_mode": {
    "name": "ipython",
    "version": 3
   },
   "file_extension": ".py",
   "mimetype": "text/x-python",
   "name": "python",
   "nbconvert_exporter": "python",
   "pygments_lexer": "ipython3",
   "version": "3.7.3"
  }
 },
 "nbformat": 4,
 "nbformat_minor": 2
}
