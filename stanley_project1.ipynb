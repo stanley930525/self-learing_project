{
 "cells": [
  {
   "cell_type": "code",
   "execution_count": null,
   "metadata": {},
   "outputs": [
    {
     "name": "stdout",
     "output_type": "stream",
     "text": [
      "   |   |\n",
      "   |   |  \n",
      "   |   |\n",
      "-----------\n",
      "   |   |\n",
      "   |   |  \n",
      "   |   |\n",
      "-----------\n",
      "   |   |\n",
      "   |   |  \n",
      "   |   |\n"
     ]
    }
   ],
   "source": [
    "from IPython.display import clear_output\n",
    "\n",
    "def display_board(board):\n",
    "    clear_output()  # Remember, this only works in jupyter!\n",
    "    \n",
    "    print('   |   |')\n",
    "    print(' ' + board[7] + ' | ' + board[8] + ' | ' + board[9])\n",
    "    print('   |   |')\n",
    "    print('-----------')\n",
    "    print('   |   |')\n",
    "    print(' ' + board[4] + ' | ' + board[5] + ' | ' + board[6])\n",
    "    print('   |   |')\n",
    "    print('-----------')\n",
    "    print('   |   |')\n",
    "    print(' ' + board[1] + ' | ' + board[2] + ' | ' + board[3])\n",
    "    print('   |   |')\n",
    "\n",
    "def winner(board):\n",
    "    winboard = [[1,2,3], [4,5,6], [7,8,9],[7,4,1],[8,5,2],[9,6,3],[7,5,3], [1,5,9]]\n",
    "    for arr in winboard:\n",
    "        if ((board[arr[0]] == 'o' and\n",
    "             board[arr[1]] == 'o' and\n",
    "             board[arr[2]] == 'o') or\n",
    "            (board[arr[0]] == 'x' and\n",
    "             board[arr[1]] == 'x' and\n",
    "             board[arr[2]] == 'x')):\n",
    "            return True\n",
    "    return False\n",
    "\n",
    "    \n",
    "player1 = input('player1 please enter o or x: ')\n",
    "test_board = [' ',' ',' ',' ',' ',' ',' ',' ',' ',' ']\n",
    "if player1 == 'o':\n",
    "    player2 = 'x'\n",
    "else:\n",
    "    player2 = 'o'\n",
    "display_board(test_board)\n",
    "isplayer1 = True\n",
    "count = 0\n",
    "for number in test_board:\n",
    "    if count >=9:\n",
    "        break;\n",
    "    count = count + 1\n",
    "    player = \"\"\n",
    "    if isplayer1:\n",
    "        player = \"player1:\" + player1\n",
    "    else:\n",
    "        player = \"player2:\" + player2        \n",
    "    position = int(input(player + \", please choose number 1 to 9: \"))\n",
    "    if isplayer1:\n",
    "        test_board[position] = player1\n",
    "    else:\n",
    "        test_board[position] = player2\n",
    "\n",
    "    isplayer1 = not isplayer1\n",
    "    display_board(test_board)\n",
    "    result = winner(test_board)\n",
    "    if result: \n",
    "        \n",
    "        if isplayer1 == True:\n",
    "            print(\"player2 win\")\n",
    "        else:\n",
    "            print(\"player1 win\")\n",
    "            \n",
    "        break;\n",
    "if not result:        \n",
    "    print(\"No winner\")        "
   ]
  },
  {
   "cell_type": "code",
   "execution_count": null,
   "metadata": {},
   "outputs": [],
   "source": []
  },
  {
   "cell_type": "code",
   "execution_count": null,
   "metadata": {},
   "outputs": [],
   "source": []
  }
 ],
 "metadata": {
  "kernelspec": {
   "display_name": "Python 3",
   "language": "python",
   "name": "python3"
  },
  "language_info": {
   "codemirror_mode": {
    "name": "ipython",
    "version": 3
   },
   "file_extension": ".py",
   "mimetype": "text/x-python",
   "name": "python",
   "nbconvert_exporter": "python",
   "pygments_lexer": "ipython3",
   "version": "3.7.6"
  }
 },
 "nbformat": 4,
 "nbformat_minor": 2
}
